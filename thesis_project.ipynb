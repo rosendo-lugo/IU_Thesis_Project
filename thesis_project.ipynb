{
 "cells": [
  {
   "cell_type": "markdown",
   "id": "bd0d3a88-b55f-4df8-af23-a674c12abe22",
   "metadata": {},
   "source": [
    "![Redfin](Redfin.png)"
   ]
  },
  {
   "cell_type": "markdown",
   "id": "2b03609f-75bd-4b99-bddf-b74f60993019",
   "metadata": {},
   "source": [
    "# Imports"
   ]
  },
  {
   "cell_type": "code",
   "execution_count": 1,
   "id": "3434bc3e-b538-4862-855d-3e2273c51d1a",
   "metadata": {},
   "outputs": [],
   "source": [
    "import wrangle as w"
   ]
  },
  {
   "cell_type": "code",
   "execution_count": 2,
   "id": "60870e64-955d-4ebb-9c6a-704f15f4422b",
   "metadata": {},
   "outputs": [
    {
     "name": "stdout",
     "output_type": "stream",
     "text": [
      "⚠️ CSV file 'data.csv' not found. Fetching clean data from BigQuery...\n",
      "Downloading: 100%|\u001b[32m█████████████████████████████████████████████████████████████\u001b[0m|\u001b[0m\n",
      "✅ Clean dataset fetched from BigQuery and saved locally as 'data.csv'.\n"
     ]
    }
   ],
   "source": [
    "redfin_df = w.check_file_exists_gbq(\"data.csv\", \"service-account-key.json\", \"iu-thesis-project.Redfin_Monthly_Housing_Market_Data.Redfin\")"
   ]
  },
  {
   "cell_type": "code",
   "execution_count": 3,
   "id": "add0718e-76b6-4df7-8d6c-776e08b542d6",
   "metadata": {},
   "outputs": [
    {
     "data": {
      "text/plain": [
       "region                                   object\n",
       "month_of_period_end         datetime64[ns, UTC]\n",
       "median_sale_price                         Int64\n",
       "median_sale_price_mom                   float64\n",
       "median_sale_price_yoy                   float64\n",
       "homes_sold                                Int64\n",
       "homes_sold_mom                          float64\n",
       "homes_sold_yoy                          float64\n",
       "new_listings                              Int64\n",
       "new_listings_mom                        float64\n",
       "new_listings_yoy                        float64\n",
       "inventory                                 Int64\n",
       "inventory_mom                           float64\n",
       "inventory_yoy                           float64\n",
       "days_on_market                            Int64\n",
       "days_on_market_mom                        Int64\n",
       "days_on_market_yoy                        Int64\n",
       "average_sale_to_list                    float64\n",
       "average_sale_to_list_mom                float64\n",
       "average_sale_to_list_yoy                float64\n",
       "dtype: object"
      ]
     },
     "execution_count": 3,
     "metadata": {},
     "output_type": "execute_result"
    }
   ],
   "source": [
    "redfin_df.dtypes"
   ]
  },
  {
   "cell_type": "code",
   "execution_count": null,
   "id": "7788d48f-23bb-4dbc-9465-023685dc70a2",
   "metadata": {},
   "outputs": [],
   "source": [
    "redfin_df.summary()"
   ]
  },
  {
   "cell_type": "code",
   "execution_count": null,
   "id": "a08ee128-7c26-4868-a774-c49d8f55634d",
   "metadata": {},
   "outputs": [],
   "source": []
  }
 ],
 "metadata": {
  "kernelspec": {
   "display_name": "Python 3 (ipykernel)",
   "language": "python",
   "name": "python3"
  },
  "language_info": {
   "codemirror_mode": {
    "name": "ipython",
    "version": 3
   },
   "file_extension": ".py",
   "mimetype": "text/x-python",
   "name": "python",
   "nbconvert_exporter": "python",
   "pygments_lexer": "ipython3",
   "version": "3.9.13"
  }
 },
 "nbformat": 4,
 "nbformat_minor": 5
}
